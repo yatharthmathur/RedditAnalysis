{
 "cells": [
  {
   "cell_type": "markdown",
   "metadata": {},
   "source": [
    "### We first install <strong>PRAW (Python Wrapper for Reddit API)</strong><br>This library is needed as we are going to be using the Reddit API which allows us to scrape the data we require. This library allows Python to interact with this API<br>Documentation : https://praw.readthedocs.io/en/latest/index.html"
   ]
  },
  {
   "cell_type": "code",
   "execution_count": 1,
   "metadata": {},
   "outputs": [
    {
     "name": "stdout",
     "output_type": "stream",
     "text": [
      "Requirement already satisfied: praw in /home/yatharthmathur/anaconda3/lib/python3.7/site-packages (6.5.1)\n",
      "Requirement already satisfied: websocket-client>=0.54.0 in /home/yatharthmathur/anaconda3/lib/python3.7/site-packages (from praw) (0.57.0)\n",
      "Requirement already satisfied: prawcore<2.0,>=1.0.1 in /home/yatharthmathur/anaconda3/lib/python3.7/site-packages (from praw) (1.0.1)\n",
      "Requirement already satisfied: update-checker>=0.16 in /home/yatharthmathur/anaconda3/lib/python3.7/site-packages (from praw) (0.16)\n",
      "Requirement already satisfied: six in /home/yatharthmathur/anaconda3/lib/python3.7/site-packages (from websocket-client>=0.54.0->praw) (1.13.0)\n",
      "Requirement already satisfied: requests<3.0,>=2.6.0 in /home/yatharthmathur/anaconda3/lib/python3.7/site-packages (from prawcore<2.0,>=1.0.1->praw) (2.22.0)\n",
      "Requirement already satisfied: chardet<3.1.0,>=3.0.2 in /home/yatharthmathur/anaconda3/lib/python3.7/site-packages (from requests<3.0,>=2.6.0->prawcore<2.0,>=1.0.1->praw) (3.0.4)\n",
      "Requirement already satisfied: urllib3!=1.25.0,!=1.25.1,<1.26,>=1.21.1 in /home/yatharthmathur/anaconda3/lib/python3.7/site-packages (from requests<3.0,>=2.6.0->prawcore<2.0,>=1.0.1->praw) (1.25.7)\n",
      "Requirement already satisfied: certifi>=2017.4.17 in /home/yatharthmathur/anaconda3/lib/python3.7/site-packages (from requests<3.0,>=2.6.0->prawcore<2.0,>=1.0.1->praw) (2019.11.28)\n",
      "Requirement already satisfied: idna<2.9,>=2.5 in /home/yatharthmathur/anaconda3/lib/python3.7/site-packages (from requests<3.0,>=2.6.0->prawcore<2.0,>=1.0.1->praw) (2.8)\n"
     ]
    }
   ],
   "source": [
    "!pip install praw"
   ]
  },
  {
   "cell_type": "markdown",
   "metadata": {},
   "source": [
    "### We import praw and other necessary libraries <br>Pandas for the dataframe manipulation, tqdm to see progress bars, datetime to parse UTC timestamp"
   ]
  },
  {
   "cell_type": "code",
   "execution_count": 15,
   "metadata": {},
   "outputs": [],
   "source": [
    "import praw\n",
    "import pandas as pd\n",
    "from tqdm.notebook import tqdm\n",
    "from datetime import datetime"
   ]
  },
  {
   "cell_type": "markdown",
   "metadata": {},
   "source": [
    "### We store client_id, client_secret key and user_agent in a text file called login.txt (space seperated)<br>They are stored in a text file because they are private credentials, anyone who wants to test the application can download this file through secure means or use their own private credentials for the Reddit API"
   ]
  },
  {
   "cell_type": "code",
   "execution_count": 16,
   "metadata": {},
   "outputs": [],
   "source": [
    "user, key, app = open('./login.txt', 'r+').read().split()"
   ]
  },
  {
   "cell_type": "markdown",
   "metadata": {},
   "source": [
    "### Initializing the application"
   ]
  },
  {
   "cell_type": "code",
   "execution_count": 3,
   "metadata": {},
   "outputs": [],
   "source": [
    "reddit = praw.Reddit(client_id=user, client_secret=key, user_agent=app)"
   ]
  },
  {
   "cell_type": "markdown",
   "metadata": {},
   "source": [
    "### Now we can access each post in a subreddit filtered by hottest, newest and so on."
   ]
  },
  {
   "cell_type": "code",
   "execution_count": 4,
   "metadata": {},
   "outputs": [],
   "source": [
    "subreddit = 'India'"
   ]
  },
  {
   "cell_type": "code",
   "execution_count": 5,
   "metadata": {},
   "outputs": [],
   "source": [
    "hot_posts = reddit.subreddit(subreddit).hot(limit=100000)"
   ]
  },
  {
   "cell_type": "code",
   "execution_count": 6,
   "metadata": {},
   "outputs": [],
   "source": [
    "posts = []"
   ]
  },
  {
   "cell_type": "markdown",
   "metadata": {},
   "source": [
    "### all the attributes of each reddit post like its id, title, body, flair, url, score, num of comments and date created are appended to an empty list which will be used to create a dataframe (the url is just reddit.com/r/subreddit_name/comments/post_id)"
   ]
  },
  {
   "cell_type": "code",
   "execution_count": 7,
   "metadata": {},
   "outputs": [
    {
     "data": {
      "application/vnd.jupyter.widget-view+json": {
       "model_id": "0cb0bab70b7e48b498c77dab66ec665c",
       "version_major": 2,
       "version_minor": 0
      },
      "text/plain": [
       "HBox(children=(FloatProgress(value=1.0, bar_style='info', max=1.0), HTML(value='')))"
      ]
     },
     "metadata": {},
     "output_type": "display_data"
    },
    {
     "name": "stdout",
     "output_type": "stream",
     "text": [
      "\n"
     ]
    }
   ],
   "source": [
    "for post in tqdm(hot_posts):\n",
    "    posts.append((post.id, post.subreddit, post.title, post.selftext, post.link_flair_text, f'https://www.reddit.com/r/{subreddit}/comments/{post.id}', post.score, post.num_comments, post.created))"
   ]
  },
  {
   "cell_type": "code",
   "execution_count": 8,
   "metadata": {},
   "outputs": [],
   "source": [
    "df = pd.DataFrame(posts, columns=['id', 'subreddit', 'title', 'body', 'flair', 'url', 'score', 'num_comments', 'dated'])"
   ]
  },
  {
   "cell_type": "markdown",
   "metadata": {},
   "source": [
    "### This function converts and returns the Date in YYYY-MM-DD HH:MM:SS format instead of UTC Timestamp"
   ]
  },
  {
   "cell_type": "code",
   "execution_count": 9,
   "metadata": {},
   "outputs": [],
   "source": [
    "def date(ts):\n",
    "    return datetime.utcfromtimestamp(ts).strftime('%Y-%m-%d %H:%M:%S')"
   ]
  },
  {
   "cell_type": "markdown",
   "metadata": {},
   "source": [
    "### We apply this function over the dated column"
   ]
  },
  {
   "cell_type": "code",
   "execution_count": 10,
   "metadata": {},
   "outputs": [],
   "source": [
    "df['dated'] = df['dated'].apply(date)"
   ]
  },
  {
   "cell_type": "markdown",
   "metadata": {},
   "source": [
    "### This is what the data looks like for hottest posts"
   ]
  },
  {
   "cell_type": "code",
   "execution_count": 11,
   "metadata": {},
   "outputs": [
    {
     "data": {
      "text/html": [
       "<div>\n",
       "<style scoped>\n",
       "    .dataframe tbody tr th:only-of-type {\n",
       "        vertical-align: middle;\n",
       "    }\n",
       "\n",
       "    .dataframe tbody tr th {\n",
       "        vertical-align: top;\n",
       "    }\n",
       "\n",
       "    .dataframe thead th {\n",
       "        text-align: right;\n",
       "    }\n",
       "</style>\n",
       "<table border=\"1\" class=\"dataframe\">\n",
       "  <thead>\n",
       "    <tr style=\"text-align: right;\">\n",
       "      <th></th>\n",
       "      <th>id</th>\n",
       "      <th>subreddit</th>\n",
       "      <th>title</th>\n",
       "      <th>body</th>\n",
       "      <th>flair</th>\n",
       "      <th>url</th>\n",
       "      <th>score</th>\n",
       "      <th>num_comments</th>\n",
       "      <th>dated</th>\n",
       "    </tr>\n",
       "  </thead>\n",
       "  <tbody>\n",
       "    <tr>\n",
       "      <td>0</td>\n",
       "      <td>fqqdsg</td>\n",
       "      <td>india</td>\n",
       "      <td>Coronavirus (COVID-19) Megathread - News and U...</td>\n",
       "      <td>###[Covid-19 Fundraisers &amp; Donation Links](htt...</td>\n",
       "      <td>Coronavirus</td>\n",
       "      <td>https://www.reddit.com/r/India/comments/fqqdsg</td>\n",
       "      <td>366</td>\n",
       "      <td>9255</td>\n",
       "      <td>2020-03-29 03:10:33</td>\n",
       "    </tr>\n",
       "    <tr>\n",
       "      <td>1</td>\n",
       "      <td>fzub9j</td>\n",
       "      <td>india</td>\n",
       "      <td>Announcing r/IndiaMeme, our own sub for memes ...</td>\n",
       "      <td>HELLO YOU NICE PEOPLE. WE GOT REALLY TIRED OF ...</td>\n",
       "      <td>Announcement</td>\n",
       "      <td>https://www.reddit.com/r/India/comments/fzub9j</td>\n",
       "      <td>143</td>\n",
       "      <td>50</td>\n",
       "      <td>2020-04-12 18:18:46</td>\n",
       "    </tr>\n",
       "    <tr>\n",
       "      <td>2</td>\n",
       "      <td>g000ic</td>\n",
       "      <td>india</td>\n",
       "      <td>My favorite lockdown pic so far!</td>\n",
       "      <td></td>\n",
       "      <td>Coronavirus</td>\n",
       "      <td>https://www.reddit.com/r/India/comments/g000ic</td>\n",
       "      <td>3248</td>\n",
       "      <td>84</td>\n",
       "      <td>2020-04-13 00:41:59</td>\n",
       "    </tr>\n",
       "    <tr>\n",
       "      <td>3</td>\n",
       "      <td>g0bfmo</td>\n",
       "      <td>india</td>\n",
       "      <td>Covid-19: Kamal Nath says lockdown was delayed...</td>\n",
       "      <td></td>\n",
       "      <td>Coronavirus</td>\n",
       "      <td>https://www.reddit.com/r/India/comments/g0bfmo</td>\n",
       "      <td>153</td>\n",
       "      <td>19</td>\n",
       "      <td>2020-04-13 11:56:58</td>\n",
       "    </tr>\n",
       "    <tr>\n",
       "      <td>4</td>\n",
       "      <td>g014wc</td>\n",
       "      <td>india</td>\n",
       "      <td>Lost my Job, Sick Mother and Paralysed Dad, In...</td>\n",
       "      <td>Hi....It's really tough time for everyone. I r...</td>\n",
       "      <td>AskIndia</td>\n",
       "      <td>https://www.reddit.com/r/India/comments/g014wc</td>\n",
       "      <td>904</td>\n",
       "      <td>106</td>\n",
       "      <td>2020-04-13 01:42:28</td>\n",
       "    </tr>\n",
       "    <tr>\n",
       "      <td>5</td>\n",
       "      <td>g0c0o9</td>\n",
       "      <td>india</td>\n",
       "      <td>In Chhattisgarh, 108 Out of 159 “Tableeghis” T...</td>\n",
       "      <td></td>\n",
       "      <td>Coronavirus</td>\n",
       "      <td>https://www.reddit.com/r/India/comments/g0c0o9</td>\n",
       "      <td>106</td>\n",
       "      <td>22</td>\n",
       "      <td>2020-04-13 12:38:16</td>\n",
       "    </tr>\n",
       "    <tr>\n",
       "      <td>6</td>\n",
       "      <td>fzzzji</td>\n",
       "      <td>india</td>\n",
       "      <td>Behind closed doors, the biggest viruses are m...</td>\n",
       "      <td></td>\n",
       "      <td>Coronavirus</td>\n",
       "      <td>https://www.reddit.com/r/India/comments/fzzzji</td>\n",
       "      <td>880</td>\n",
       "      <td>123</td>\n",
       "      <td>2020-04-13 00:40:34</td>\n",
       "    </tr>\n",
       "    <tr>\n",
       "      <td>7</td>\n",
       "      <td>g0d4n0</td>\n",
       "      <td>india</td>\n",
       "      <td>New cases increasingly in single digits, how K...</td>\n",
       "      <td></td>\n",
       "      <td>Coronavirus</td>\n",
       "      <td>https://www.reddit.com/r/India/comments/g0d4n0</td>\n",
       "      <td>46</td>\n",
       "      <td>2</td>\n",
       "      <td>2020-04-13 14:01:00</td>\n",
       "    </tr>\n",
       "    <tr>\n",
       "      <td>8</td>\n",
       "      <td>g0bxrr</td>\n",
       "      <td>india</td>\n",
       "      <td>30 ‘foreigners’ dead in Assam’s detention centres</td>\n",
       "      <td></td>\n",
       "      <td>Politics</td>\n",
       "      <td>https://www.reddit.com/r/India/comments/g0bxrr</td>\n",
       "      <td>52</td>\n",
       "      <td>7</td>\n",
       "      <td>2020-04-13 12:32:20</td>\n",
       "    </tr>\n",
       "    <tr>\n",
       "      <td>9</td>\n",
       "      <td>fzsccv</td>\n",
       "      <td>india</td>\n",
       "      <td>We can save you from Corona, But not from Stup...</td>\n",
       "      <td></td>\n",
       "      <td>Non-Political</td>\n",
       "      <td>https://www.reddit.com/r/India/comments/fzsccv</td>\n",
       "      <td>2492</td>\n",
       "      <td>163</td>\n",
       "      <td>2020-04-12 15:29:10</td>\n",
       "    </tr>\n",
       "  </tbody>\n",
       "</table>\n",
       "</div>"
      ],
      "text/plain": [
       "       id subreddit                                              title  \\\n",
       "0  fqqdsg     india  Coronavirus (COVID-19) Megathread - News and U...   \n",
       "1  fzub9j     india  Announcing r/IndiaMeme, our own sub for memes ...   \n",
       "2  g000ic     india                   My favorite lockdown pic so far!   \n",
       "3  g0bfmo     india  Covid-19: Kamal Nath says lockdown was delayed...   \n",
       "4  g014wc     india  Lost my Job, Sick Mother and Paralysed Dad, In...   \n",
       "5  g0c0o9     india  In Chhattisgarh, 108 Out of 159 “Tableeghis” T...   \n",
       "6  fzzzji     india  Behind closed doors, the biggest viruses are m...   \n",
       "7  g0d4n0     india  New cases increasingly in single digits, how K...   \n",
       "8  g0bxrr     india  30 ‘foreigners’ dead in Assam’s detention centres   \n",
       "9  fzsccv     india  We can save you from Corona, But not from Stup...   \n",
       "\n",
       "                                                body          flair  \\\n",
       "0  ###[Covid-19 Fundraisers & Donation Links](htt...    Coronavirus   \n",
       "1  HELLO YOU NICE PEOPLE. WE GOT REALLY TIRED OF ...   Announcement   \n",
       "2                                                       Coronavirus   \n",
       "3                                                       Coronavirus   \n",
       "4  Hi....It's really tough time for everyone. I r...       AskIndia   \n",
       "5                                                       Coronavirus   \n",
       "6                                                       Coronavirus   \n",
       "7                                                       Coronavirus   \n",
       "8                                                          Politics   \n",
       "9                                                     Non-Political   \n",
       "\n",
       "                                              url  score  num_comments  \\\n",
       "0  https://www.reddit.com/r/India/comments/fqqdsg    366          9255   \n",
       "1  https://www.reddit.com/r/India/comments/fzub9j    143            50   \n",
       "2  https://www.reddit.com/r/India/comments/g000ic   3248            84   \n",
       "3  https://www.reddit.com/r/India/comments/g0bfmo    153            19   \n",
       "4  https://www.reddit.com/r/India/comments/g014wc    904           106   \n",
       "5  https://www.reddit.com/r/India/comments/g0c0o9    106            22   \n",
       "6  https://www.reddit.com/r/India/comments/fzzzji    880           123   \n",
       "7  https://www.reddit.com/r/India/comments/g0d4n0     46             2   \n",
       "8  https://www.reddit.com/r/India/comments/g0bxrr     52             7   \n",
       "9  https://www.reddit.com/r/India/comments/fzsccv   2492           163   \n",
       "\n",
       "                 dated  \n",
       "0  2020-03-29 03:10:33  \n",
       "1  2020-04-12 18:18:46  \n",
       "2  2020-04-13 00:41:59  \n",
       "3  2020-04-13 11:56:58  \n",
       "4  2020-04-13 01:42:28  \n",
       "5  2020-04-13 12:38:16  \n",
       "6  2020-04-13 00:40:34  \n",
       "7  2020-04-13 14:01:00  \n",
       "8  2020-04-13 12:32:20  \n",
       "9  2020-04-12 15:29:10  "
      ]
     },
     "execution_count": 11,
     "metadata": {},
     "output_type": "execute_result"
    }
   ],
   "source": [
    "df.head(10)"
   ]
  },
  {
   "cell_type": "markdown",
   "metadata": {},
   "source": [
    "### We can save this dataframe as csv file"
   ]
  },
  {
   "cell_type": "code",
   "execution_count": 12,
   "metadata": {},
   "outputs": [],
   "source": [
    "df.to_csv('hot_posts.csv', index=None)"
   ]
  },
  {
   "cell_type": "code",
   "execution_count": 13,
   "metadata": {},
   "outputs": [
    {
     "data": {
      "text/plain": [
       "787"
      ]
     },
     "execution_count": 13,
     "metadata": {},
     "output_type": "execute_result"
    }
   ],
   "source": [
    "len(df)"
   ]
  },
  {
   "cell_type": "markdown",
   "metadata": {},
   "source": [
    "### We can now just make a function for all kinds of post objects(new, hot, top) which performs the above task and returns the dataframe obtained"
   ]
  },
  {
   "cell_type": "code",
   "execution_count": 25,
   "metadata": {},
   "outputs": [],
   "source": [
    "def process_posts(posts_obj):\n",
    "    import pandas as pd\n",
    "    from datetime import datetime\n",
    "    from time import sleep\n",
    "    def date(ts):\n",
    "        return datetime.utcfromtimestamp(ts).strftime('%Y-%m-%d %H:%M:%S')\n",
    "    posts = []\n",
    "    for post in posts_obj:\n",
    "        posts.append((post.id, post.subreddit, post.title, post.selftext, post.link_flair_text, f'https://www.reddit.com/r/{subreddit}/comments/{post.id}', post.score, post.num_comments, post.created))\n",
    "        #sleep(0.1)\n",
    "    df = pd.DataFrame(posts, columns=['id', 'subreddit', 'title', 'body', 'flair', 'url', 'score', 'num_comments', 'dated'])\n",
    "    df['dated'] = df['dated'].apply(date)\n",
    "    return df"
   ]
  },
  {
   "cell_type": "markdown",
   "metadata": {},
   "source": [
    "### We can obtain the new posts object and pass it to the above function to get an exact same dataset as before but with newest posts"
   ]
  },
  {
   "cell_type": "code",
   "execution_count": 18,
   "metadata": {},
   "outputs": [],
   "source": [
    "new_posts = reddit.subreddit(subreddit).new(limit=10000)"
   ]
  },
  {
   "cell_type": "code",
   "execution_count": 19,
   "metadata": {},
   "outputs": [],
   "source": [
    "df_new = process_posts(new_posts)"
   ]
  },
  {
   "cell_type": "code",
   "execution_count": 17,
   "metadata": {},
   "outputs": [
    {
     "data": {
      "text/html": [
       "<div>\n",
       "<style scoped>\n",
       "    .dataframe tbody tr th:only-of-type {\n",
       "        vertical-align: middle;\n",
       "    }\n",
       "\n",
       "    .dataframe tbody tr th {\n",
       "        vertical-align: top;\n",
       "    }\n",
       "\n",
       "    .dataframe thead th {\n",
       "        text-align: right;\n",
       "    }\n",
       "</style>\n",
       "<table border=\"1\" class=\"dataframe\">\n",
       "  <thead>\n",
       "    <tr style=\"text-align: right;\">\n",
       "      <th></th>\n",
       "      <th>id</th>\n",
       "      <th>subreddit</th>\n",
       "      <th>title</th>\n",
       "      <th>body</th>\n",
       "      <th>flair</th>\n",
       "      <th>url</th>\n",
       "      <th>score</th>\n",
       "      <th>num_comments</th>\n",
       "      <th>dated</th>\n",
       "    </tr>\n",
       "  </thead>\n",
       "  <tbody>\n",
       "    <tr>\n",
       "      <td>0</td>\n",
       "      <td>g0ehvg</td>\n",
       "      <td>india</td>\n",
       "      <td>Does anyone wanna chat? Idk. I'm really bored</td>\n",
       "      <td>Ik i could post this on several \"making friend...</td>\n",
       "      <td>Non-Political</td>\n",
       "      <td>https://www.reddit.com/r/India/comments/g0ehvg</td>\n",
       "      <td>1</td>\n",
       "      <td>0</td>\n",
       "      <td>2020-04-13 15:51:48</td>\n",
       "    </tr>\n",
       "    <tr>\n",
       "      <td>1</td>\n",
       "      <td>g0ehuw</td>\n",
       "      <td>india</td>\n",
       "      <td>IAS Officer Srijana Gummalla returned to work ...</td>\n",
       "      <td></td>\n",
       "      <td>Non-Political</td>\n",
       "      <td>https://www.reddit.com/r/India/comments/g0ehuw</td>\n",
       "      <td>1</td>\n",
       "      <td>0</td>\n",
       "      <td>2020-04-13 15:51:45</td>\n",
       "    </tr>\n",
       "    <tr>\n",
       "      <td>2</td>\n",
       "      <td>g0eha8</td>\n",
       "      <td>india</td>\n",
       "      <td>Every time I see Ramdev Baba or Sadhguru on a ...</td>\n",
       "      <td>It is gut-wrenching when sadhguru says tried t...</td>\n",
       "      <td>Non-Political</td>\n",
       "      <td>https://www.reddit.com/r/India/comments/g0eha8</td>\n",
       "      <td>2</td>\n",
       "      <td>0</td>\n",
       "      <td>2020-04-13 15:50:24</td>\n",
       "    </tr>\n",
       "    <tr>\n",
       "      <td>3</td>\n",
       "      <td>g0eaol</td>\n",
       "      <td>india</td>\n",
       "      <td>Tablighi Jamaat and the Perils of Precipitous ...</td>\n",
       "      <td></td>\n",
       "      <td>Politics</td>\n",
       "      <td>https://www.reddit.com/r/India/comments/g0eaol</td>\n",
       "      <td>1</td>\n",
       "      <td>0</td>\n",
       "      <td>2020-04-13 15:35:05</td>\n",
       "    </tr>\n",
       "    <tr>\n",
       "      <td>4</td>\n",
       "      <td>g0e9a8</td>\n",
       "      <td>india</td>\n",
       "      <td>HRs of India, do you reveal salary information...</td>\n",
       "      <td>Since CTC is so confidential and they ask us n...</td>\n",
       "      <td>AskIndia</td>\n",
       "      <td>https://www.reddit.com/r/India/comments/g0e9a8</td>\n",
       "      <td>5</td>\n",
       "      <td>3</td>\n",
       "      <td>2020-04-13 15:31:46</td>\n",
       "    </tr>\n",
       "    <tr>\n",
       "      <td>5</td>\n",
       "      <td>g0e3nc</td>\n",
       "      <td>india</td>\n",
       "      <td>Is my anxiety of COVID-19 rational?</td>\n",
       "      <td>So we are all going through rough times. Some ...</td>\n",
       "      <td>AskIndia</td>\n",
       "      <td>https://www.reddit.com/r/India/comments/g0e3nc</td>\n",
       "      <td>4</td>\n",
       "      <td>3</td>\n",
       "      <td>2020-04-13 15:19:04</td>\n",
       "    </tr>\n",
       "    <tr>\n",
       "      <td>6</td>\n",
       "      <td>g0dofi</td>\n",
       "      <td>india</td>\n",
       "      <td>101 years of Jallianwala Bagh massacre | Backg...</td>\n",
       "      <td>***\\*Picture thread attached at the bottom, pl...</td>\n",
       "      <td>Non-Political</td>\n",
       "      <td>https://www.reddit.com/r/India/comments/g0dofi</td>\n",
       "      <td>11</td>\n",
       "      <td>2</td>\n",
       "      <td>2020-04-13 14:44:55</td>\n",
       "    </tr>\n",
       "    <tr>\n",
       "      <td>7</td>\n",
       "      <td>g0dvt3</td>\n",
       "      <td>india</td>\n",
       "      <td>My Kitchen Garden</td>\n",
       "      <td></td>\n",
       "      <td>Food</td>\n",
       "      <td>https://www.reddit.com/r/India/comments/g0dvt3</td>\n",
       "      <td>5</td>\n",
       "      <td>0</td>\n",
       "      <td>2020-04-13 15:01:22</td>\n",
       "    </tr>\n",
       "    <tr>\n",
       "      <td>8</td>\n",
       "      <td>g0dvma</td>\n",
       "      <td>india</td>\n",
       "      <td>Indian media is waging a holy war against Musl...</td>\n",
       "      <td></td>\n",
       "      <td>Coronavirus</td>\n",
       "      <td>https://www.reddit.com/r/India/comments/g0dvma</td>\n",
       "      <td>1</td>\n",
       "      <td>1</td>\n",
       "      <td>2020-04-13 15:00:57</td>\n",
       "    </tr>\n",
       "    <tr>\n",
       "      <td>9</td>\n",
       "      <td>g0dsfs</td>\n",
       "      <td>india</td>\n",
       "      <td>Found a new tracker</td>\n",
       "      <td></td>\n",
       "      <td>Coronavirus</td>\n",
       "      <td>https://www.reddit.com/r/India/comments/g0dsfs</td>\n",
       "      <td>4</td>\n",
       "      <td>0</td>\n",
       "      <td>2020-04-13 14:53:52</td>\n",
       "    </tr>\n",
       "  </tbody>\n",
       "</table>\n",
       "</div>"
      ],
      "text/plain": [
       "       id subreddit                                              title  \\\n",
       "0  g0ehvg     india      Does anyone wanna chat? Idk. I'm really bored   \n",
       "1  g0ehuw     india  IAS Officer Srijana Gummalla returned to work ...   \n",
       "2  g0eha8     india  Every time I see Ramdev Baba or Sadhguru on a ...   \n",
       "3  g0eaol     india  Tablighi Jamaat and the Perils of Precipitous ...   \n",
       "4  g0e9a8     india  HRs of India, do you reveal salary information...   \n",
       "5  g0e3nc     india                Is my anxiety of COVID-19 rational?   \n",
       "6  g0dofi     india  101 years of Jallianwala Bagh massacre | Backg...   \n",
       "7  g0dvt3     india                                  My Kitchen Garden   \n",
       "8  g0dvma     india  Indian media is waging a holy war against Musl...   \n",
       "9  g0dsfs     india                                Found a new tracker   \n",
       "\n",
       "                                                body          flair  \\\n",
       "0  Ik i could post this on several \"making friend...  Non-Political   \n",
       "1                                                     Non-Political   \n",
       "2  It is gut-wrenching when sadhguru says tried t...  Non-Political   \n",
       "3                                                          Politics   \n",
       "4  Since CTC is so confidential and they ask us n...       AskIndia   \n",
       "5  So we are all going through rough times. Some ...       AskIndia   \n",
       "6  ***\\*Picture thread attached at the bottom, pl...  Non-Political   \n",
       "7                                                              Food   \n",
       "8                                                       Coronavirus   \n",
       "9                                                       Coronavirus   \n",
       "\n",
       "                                              url  score  num_comments  \\\n",
       "0  https://www.reddit.com/r/India/comments/g0ehvg      1             0   \n",
       "1  https://www.reddit.com/r/India/comments/g0ehuw      1             0   \n",
       "2  https://www.reddit.com/r/India/comments/g0eha8      2             0   \n",
       "3  https://www.reddit.com/r/India/comments/g0eaol      1             0   \n",
       "4  https://www.reddit.com/r/India/comments/g0e9a8      5             3   \n",
       "5  https://www.reddit.com/r/India/comments/g0e3nc      4             3   \n",
       "6  https://www.reddit.com/r/India/comments/g0dofi     11             2   \n",
       "7  https://www.reddit.com/r/India/comments/g0dvt3      5             0   \n",
       "8  https://www.reddit.com/r/India/comments/g0dvma      1             1   \n",
       "9  https://www.reddit.com/r/India/comments/g0dsfs      4             0   \n",
       "\n",
       "                 dated  \n",
       "0  2020-04-13 15:51:48  \n",
       "1  2020-04-13 15:51:45  \n",
       "2  2020-04-13 15:50:24  \n",
       "3  2020-04-13 15:35:05  \n",
       "4  2020-04-13 15:31:46  \n",
       "5  2020-04-13 15:19:04  \n",
       "6  2020-04-13 14:44:55  \n",
       "7  2020-04-13 15:01:22  \n",
       "8  2020-04-13 15:00:57  \n",
       "9  2020-04-13 14:53:52  "
      ]
     },
     "execution_count": 17,
     "metadata": {},
     "output_type": "execute_result"
    }
   ],
   "source": [
    "df_new.head(10)"
   ]
  },
  {
   "cell_type": "code",
   "execution_count": 20,
   "metadata": {},
   "outputs": [],
   "source": [
    "df_new.to_csv('new_posts.csv', index=None)"
   ]
  },
  {
   "cell_type": "code",
   "execution_count": 21,
   "metadata": {},
   "outputs": [
    {
     "data": {
      "text/plain": [
       "881"
      ]
     },
     "execution_count": 21,
     "metadata": {},
     "output_type": "execute_result"
    }
   ],
   "source": [
    "len(df_new)"
   ]
  },
  {
   "cell_type": "markdown",
   "metadata": {},
   "source": [
    "### Same can be done for all the top posts<br>Note: Top posts can be filtered by hourly, daily, weekly, monthly, all time etc basis. In our case we're using all time."
   ]
  },
  {
   "cell_type": "code",
   "execution_count": 11,
   "metadata": {},
   "outputs": [],
   "source": [
    "top_posts = reddit.subreddit(subreddit).top('all', limit=100000)"
   ]
  },
  {
   "cell_type": "code",
   "execution_count": 12,
   "metadata": {},
   "outputs": [],
   "source": [
    "df_top = process_posts(top_posts)"
   ]
  },
  {
   "cell_type": "code",
   "execution_count": 13,
   "metadata": {},
   "outputs": [
    {
     "data": {
      "text/html": [
       "<div>\n",
       "<style scoped>\n",
       "    .dataframe tbody tr th:only-of-type {\n",
       "        vertical-align: middle;\n",
       "    }\n",
       "\n",
       "    .dataframe tbody tr th {\n",
       "        vertical-align: top;\n",
       "    }\n",
       "\n",
       "    .dataframe thead th {\n",
       "        text-align: right;\n",
       "    }\n",
       "</style>\n",
       "<table border=\"1\" class=\"dataframe\">\n",
       "  <thead>\n",
       "    <tr style=\"text-align: right;\">\n",
       "      <th></th>\n",
       "      <th>id</th>\n",
       "      <th>subreddit</th>\n",
       "      <th>title</th>\n",
       "      <th>body</th>\n",
       "      <th>flair</th>\n",
       "      <th>url</th>\n",
       "      <th>score</th>\n",
       "      <th>num_comments</th>\n",
       "      <th>dated</th>\n",
       "    </tr>\n",
       "  </thead>\n",
       "  <tbody>\n",
       "    <tr>\n",
       "      <td>0</td>\n",
       "      <td>981o7s</td>\n",
       "      <td>india</td>\n",
       "      <td>Will donate thrice the number of upvotes (amou...</td>\n",
       "      <td>&gt;**Note**: If you want to know what this is al...</td>\n",
       "      <td>[R]eddiquette</td>\n",
       "      <td>https://www.reddit.com/r/India/comments/981o7s</td>\n",
       "      <td>19714</td>\n",
       "      <td>836</td>\n",
       "      <td>2018-08-17 20:02:17</td>\n",
       "    </tr>\n",
       "    <tr>\n",
       "      <td>1</td>\n",
       "      <td>6f10op</td>\n",
       "      <td>india</td>\n",
       "      <td>Indian reply to NYtimes cartoon on Paris clima...</td>\n",
       "      <td></td>\n",
       "      <td>/r/all</td>\n",
       "      <td>https://www.reddit.com/r/India/comments/6f10op</td>\n",
       "      <td>18239</td>\n",
       "      <td>1492</td>\n",
       "      <td>2017-06-03 20:47:25</td>\n",
       "    </tr>\n",
       "    <tr>\n",
       "      <td>2</td>\n",
       "      <td>8pymkp</td>\n",
       "      <td>india</td>\n",
       "      <td>The essence of the Indian soap opera, distille...</td>\n",
       "      <td></td>\n",
       "      <td>r/all</td>\n",
       "      <td>https://www.reddit.com/r/India/comments/8pymkp</td>\n",
       "      <td>18200</td>\n",
       "      <td>949</td>\n",
       "      <td>2018-06-10 12:46:29</td>\n",
       "    </tr>\n",
       "    <tr>\n",
       "      <td>3</td>\n",
       "      <td>f9outu</td>\n",
       "      <td>india</td>\n",
       "      <td>Fuck all Religion</td>\n",
       "      <td>Fuck all religion. Fuck Hindusim, fuck Islam, ...</td>\n",
       "      <td>Politics</td>\n",
       "      <td>https://www.reddit.com/r/India/comments/f9outu</td>\n",
       "      <td>17838</td>\n",
       "      <td>4205</td>\n",
       "      <td>2020-02-26 14:10:49</td>\n",
       "    </tr>\n",
       "    <tr>\n",
       "      <td>4</td>\n",
       "      <td>eev8g5</td>\n",
       "      <td>india</td>\n",
       "      <td>German exchange Student at IIT Madras is being...</td>\n",
       "      <td></td>\n",
       "      <td>Politics</td>\n",
       "      <td>https://www.reddit.com/r/India/comments/eev8g5</td>\n",
       "      <td>11694</td>\n",
       "      <td>501</td>\n",
       "      <td>2019-12-24 11:10:46</td>\n",
       "    </tr>\n",
       "    <tr>\n",
       "      <td>5</td>\n",
       "      <td>4s5bpn</td>\n",
       "      <td>india</td>\n",
       "      <td>Tragedy of India</td>\n",
       "      <td></td>\n",
       "      <td>r/all</td>\n",
       "      <td>https://www.reddit.com/r/India/comments/4s5bpn</td>\n",
       "      <td>11264</td>\n",
       "      <td>342</td>\n",
       "      <td>2016-07-10 20:40:21</td>\n",
       "    </tr>\n",
       "    <tr>\n",
       "      <td>6</td>\n",
       "      <td>fmsjoc</td>\n",
       "      <td>india</td>\n",
       "      <td>Today's The Hindu</td>\n",
       "      <td></td>\n",
       "      <td>Coronavirus</td>\n",
       "      <td>https://www.reddit.com/r/India/comments/fmsjoc</td>\n",
       "      <td>10955</td>\n",
       "      <td>180</td>\n",
       "      <td>2020-03-22 10:50:29</td>\n",
       "    </tr>\n",
       "    <tr>\n",
       "      <td>7</td>\n",
       "      <td>9dt64s</td>\n",
       "      <td>india</td>\n",
       "      <td>If you are not moved by this picture, I wish I...</td>\n",
       "      <td></td>\n",
       "      <td>Non-Political</td>\n",
       "      <td>https://www.reddit.com/r/India/comments/9dt64s</td>\n",
       "      <td>10772</td>\n",
       "      <td>382</td>\n",
       "      <td>2018-09-07 18:48:18</td>\n",
       "    </tr>\n",
       "    <tr>\n",
       "      <td>8</td>\n",
       "      <td>avafxp</td>\n",
       "      <td>india</td>\n",
       "      <td>Megathread: India-Pakistan border skirmish</td>\n",
       "      <td>There is a lot of news and speculation coming ...</td>\n",
       "      <td>[R]eddiquette</td>\n",
       "      <td>https://www.reddit.com/r/India/comments/avafxp</td>\n",
       "      <td>10210</td>\n",
       "      <td>6923</td>\n",
       "      <td>2019-02-27 14:56:35</td>\n",
       "    </tr>\n",
       "    <tr>\n",
       "      <td>9</td>\n",
       "      <td>fo661m</td>\n",
       "      <td>india</td>\n",
       "      <td>\"From midnight the entire country will go unde...</td>\n",
       "      <td></td>\n",
       "      <td>Politics [Megathread]</td>\n",
       "      <td>https://www.reddit.com/r/India/comments/fo661m</td>\n",
       "      <td>10046</td>\n",
       "      <td>1441</td>\n",
       "      <td>2020-03-24 22:38:46</td>\n",
       "    </tr>\n",
       "  </tbody>\n",
       "</table>\n",
       "</div>"
      ],
      "text/plain": [
       "       id subreddit                                              title  \\\n",
       "0  981o7s     india  Will donate thrice the number of upvotes (amou...   \n",
       "1  6f10op     india  Indian reply to NYtimes cartoon on Paris clima...   \n",
       "2  8pymkp     india  The essence of the Indian soap opera, distille...   \n",
       "3  f9outu     india                                  Fuck all Religion   \n",
       "4  eev8g5     india  German exchange Student at IIT Madras is being...   \n",
       "5  4s5bpn     india                                   Tragedy of India   \n",
       "6  fmsjoc     india                                  Today's The Hindu   \n",
       "7  9dt64s     india  If you are not moved by this picture, I wish I...   \n",
       "8  avafxp     india         Megathread: India-Pakistan border skirmish   \n",
       "9  fo661m     india  \"From midnight the entire country will go unde...   \n",
       "\n",
       "                                                body                  flair  \\\n",
       "0  >**Note**: If you want to know what this is al...          [R]eddiquette   \n",
       "1                                                                    /r/all   \n",
       "2                                                                     r/all   \n",
       "3  Fuck all religion. Fuck Hindusim, fuck Islam, ...               Politics   \n",
       "4                                                                  Politics   \n",
       "5                                                                     r/all   \n",
       "6                                                               Coronavirus   \n",
       "7                                                             Non-Political   \n",
       "8  There is a lot of news and speculation coming ...          [R]eddiquette   \n",
       "9                                                     Politics [Megathread]   \n",
       "\n",
       "                                              url  score  num_comments  \\\n",
       "0  https://www.reddit.com/r/India/comments/981o7s  19714           836   \n",
       "1  https://www.reddit.com/r/India/comments/6f10op  18239          1492   \n",
       "2  https://www.reddit.com/r/India/comments/8pymkp  18200           949   \n",
       "3  https://www.reddit.com/r/India/comments/f9outu  17838          4205   \n",
       "4  https://www.reddit.com/r/India/comments/eev8g5  11694           501   \n",
       "5  https://www.reddit.com/r/India/comments/4s5bpn  11264           342   \n",
       "6  https://www.reddit.com/r/India/comments/fmsjoc  10955           180   \n",
       "7  https://www.reddit.com/r/India/comments/9dt64s  10772           382   \n",
       "8  https://www.reddit.com/r/India/comments/avafxp  10210          6923   \n",
       "9  https://www.reddit.com/r/India/comments/fo661m  10046          1441   \n",
       "\n",
       "                 dated  \n",
       "0  2018-08-17 20:02:17  \n",
       "1  2017-06-03 20:47:25  \n",
       "2  2018-06-10 12:46:29  \n",
       "3  2020-02-26 14:10:49  \n",
       "4  2019-12-24 11:10:46  \n",
       "5  2016-07-10 20:40:21  \n",
       "6  2020-03-22 10:50:29  \n",
       "7  2018-09-07 18:48:18  \n",
       "8  2019-02-27 14:56:35  \n",
       "9  2020-03-24 22:38:46  "
      ]
     },
     "execution_count": 13,
     "metadata": {},
     "output_type": "execute_result"
    }
   ],
   "source": [
    "df_top.head(10)"
   ]
  },
  {
   "cell_type": "code",
   "execution_count": 14,
   "metadata": {},
   "outputs": [],
   "source": [
    "df_top.to_csv('top_posts_all_time.csv', index=None)"
   ]
  },
  {
   "cell_type": "code",
   "execution_count": 24,
   "metadata": {},
   "outputs": [
    {
     "data": {
      "text/plain": [
       "988"
      ]
     },
     "execution_count": 24,
     "metadata": {},
     "output_type": "execute_result"
    }
   ],
   "source": [
    "len(df_top)"
   ]
  },
  {
   "cell_type": "code",
   "execution_count": 23,
   "metadata": {},
   "outputs": [],
   "source": [
    "top_posts_year = reddit.subreddit(subreddit).top('year', limit=1000)"
   ]
  },
  {
   "cell_type": "code",
   "execution_count": 26,
   "metadata": {},
   "outputs": [],
   "source": [
    "df_top_year = process_posts(top_posts_year)"
   ]
  },
  {
   "cell_type": "code",
   "execution_count": 27,
   "metadata": {},
   "outputs": [
    {
     "data": {
      "text/html": [
       "<div>\n",
       "<style scoped>\n",
       "    .dataframe tbody tr th:only-of-type {\n",
       "        vertical-align: middle;\n",
       "    }\n",
       "\n",
       "    .dataframe tbody tr th {\n",
       "        vertical-align: top;\n",
       "    }\n",
       "\n",
       "    .dataframe thead th {\n",
       "        text-align: right;\n",
       "    }\n",
       "</style>\n",
       "<table border=\"1\" class=\"dataframe\">\n",
       "  <thead>\n",
       "    <tr style=\"text-align: right;\">\n",
       "      <th></th>\n",
       "      <th>id</th>\n",
       "      <th>subreddit</th>\n",
       "      <th>title</th>\n",
       "      <th>body</th>\n",
       "      <th>flair</th>\n",
       "      <th>url</th>\n",
       "      <th>score</th>\n",
       "      <th>num_comments</th>\n",
       "      <th>dated</th>\n",
       "    </tr>\n",
       "  </thead>\n",
       "  <tbody>\n",
       "    <tr>\n",
       "      <td>0</td>\n",
       "      <td>cvk41x</td>\n",
       "      <td>india</td>\n",
       "      <td>Pick your poison wisely!</td>\n",
       "      <td></td>\n",
       "      <td>Food</td>\n",
       "      <td>https://www.reddit.com/r/India/comments/cvk41x</td>\n",
       "      <td>2901</td>\n",
       "      <td>203</td>\n",
       "      <td>2019-08-26 14:07:19</td>\n",
       "    </tr>\n",
       "    <tr>\n",
       "      <td>1</td>\n",
       "      <td>fp3ql3</td>\n",
       "      <td>india</td>\n",
       "      <td>A watercolour painting of the Jama Masjid I di...</td>\n",
       "      <td></td>\n",
       "      <td>Non-Political</td>\n",
       "      <td>https://www.reddit.com/r/India/comments/fp3ql3</td>\n",
       "      <td>2874</td>\n",
       "      <td>81</td>\n",
       "      <td>2020-03-26 10:42:11</td>\n",
       "    </tr>\n",
       "    <tr>\n",
       "      <td>2</td>\n",
       "      <td>c6ude3</td>\n",
       "      <td>india</td>\n",
       "      <td>Catch it before it’s too late.</td>\n",
       "      <td></td>\n",
       "      <td>Politics</td>\n",
       "      <td>https://www.reddit.com/r/India/comments/c6ude3</td>\n",
       "      <td>2872</td>\n",
       "      <td>92</td>\n",
       "      <td>2019-06-29 12:19:57</td>\n",
       "    </tr>\n",
       "    <tr>\n",
       "      <td>3</td>\n",
       "      <td>ecp2hp</td>\n",
       "      <td>india</td>\n",
       "      <td>Pune. My city. Standing strong. How about you?</td>\n",
       "      <td></td>\n",
       "      <td>Politics</td>\n",
       "      <td>https://www.reddit.com/r/India/comments/ecp2hp</td>\n",
       "      <td>2866</td>\n",
       "      <td>161</td>\n",
       "      <td>2019-12-19 13:58:31</td>\n",
       "    </tr>\n",
       "    <tr>\n",
       "      <td>4</td>\n",
       "      <td>bxks5y</td>\n",
       "      <td>india</td>\n",
       "      <td>Vegetable market in Sikkim</td>\n",
       "      <td></td>\n",
       "      <td>Non-Political</td>\n",
       "      <td>https://www.reddit.com/r/India/comments/bxks5y</td>\n",
       "      <td>2870</td>\n",
       "      <td>127</td>\n",
       "      <td>2019-06-07 03:21:06</td>\n",
       "    </tr>\n",
       "    <tr>\n",
       "      <td>5</td>\n",
       "      <td>c0gf1o</td>\n",
       "      <td>india</td>\n",
       "      <td>India Gate ( Arc-de-Triomphe\" like archway in ...</td>\n",
       "      <td></td>\n",
       "      <td>Photography</td>\n",
       "      <td>https://www.reddit.com/r/India/comments/c0gf1o</td>\n",
       "      <td>2861</td>\n",
       "      <td>114</td>\n",
       "      <td>2019-06-14 13:37:44</td>\n",
       "    </tr>\n",
       "    <tr>\n",
       "      <td>6</td>\n",
       "      <td>fm9uy6</td>\n",
       "      <td>india</td>\n",
       "      <td>He knew</td>\n",
       "      <td></td>\n",
       "      <td>Coronavirus</td>\n",
       "      <td>https://www.reddit.com/r/India/comments/fm9uy6</td>\n",
       "      <td>2858</td>\n",
       "      <td>74</td>\n",
       "      <td>2020-03-21 13:11:02</td>\n",
       "    </tr>\n",
       "    <tr>\n",
       "      <td>7</td>\n",
       "      <td>cx0wwv</td>\n",
       "      <td>india</td>\n",
       "      <td>Every single day this spot is absolutely clean...</td>\n",
       "      <td></td>\n",
       "      <td>Politics</td>\n",
       "      <td>https://www.reddit.com/r/India/comments/cx0wwv</td>\n",
       "      <td>2851</td>\n",
       "      <td>115</td>\n",
       "      <td>2019-08-29 21:26:36</td>\n",
       "    </tr>\n",
       "    <tr>\n",
       "      <td>8</td>\n",
       "      <td>ch5ws5</td>\n",
       "      <td>india</td>\n",
       "      <td>India supplied over two thirds of AIDS medicat...</td>\n",
       "      <td></td>\n",
       "      <td>Science/Technology</td>\n",
       "      <td>https://www.reddit.com/r/India/comments/ch5ws5</td>\n",
       "      <td>2852</td>\n",
       "      <td>232</td>\n",
       "      <td>2019-07-24 17:24:41</td>\n",
       "    </tr>\n",
       "    <tr>\n",
       "      <td>9</td>\n",
       "      <td>ebq5qp</td>\n",
       "      <td>india</td>\n",
       "      <td>Today's Telegraph. Vive la révolution.</td>\n",
       "      <td></td>\n",
       "      <td>Politics</td>\n",
       "      <td>https://www.reddit.com/r/India/comments/ebq5qp</td>\n",
       "      <td>2842</td>\n",
       "      <td>156</td>\n",
       "      <td>2019-12-17 11:27:57</td>\n",
       "    </tr>\n",
       "  </tbody>\n",
       "</table>\n",
       "</div>"
      ],
      "text/plain": [
       "       id subreddit                                              title body  \\\n",
       "0  cvk41x     india                           Pick your poison wisely!        \n",
       "1  fp3ql3     india  A watercolour painting of the Jama Masjid I di...        \n",
       "2  c6ude3     india                     Catch it before it’s too late.        \n",
       "3  ecp2hp     india     Pune. My city. Standing strong. How about you?        \n",
       "4  bxks5y     india                         Vegetable market in Sikkim        \n",
       "5  c0gf1o     india  India Gate ( Arc-de-Triomphe\" like archway in ...        \n",
       "6  fm9uy6     india                                            He knew        \n",
       "7  cx0wwv     india  Every single day this spot is absolutely clean...        \n",
       "8  ch5ws5     india  India supplied over two thirds of AIDS medicat...        \n",
       "9  ebq5qp     india             Today's Telegraph. Vive la révolution.        \n",
       "\n",
       "                flair                                             url  score  \\\n",
       "0                Food  https://www.reddit.com/r/India/comments/cvk41x   2901   \n",
       "1       Non-Political  https://www.reddit.com/r/India/comments/fp3ql3   2874   \n",
       "2            Politics  https://www.reddit.com/r/India/comments/c6ude3   2872   \n",
       "3            Politics  https://www.reddit.com/r/India/comments/ecp2hp   2866   \n",
       "4       Non-Political  https://www.reddit.com/r/India/comments/bxks5y   2870   \n",
       "5         Photography  https://www.reddit.com/r/India/comments/c0gf1o   2861   \n",
       "6         Coronavirus  https://www.reddit.com/r/India/comments/fm9uy6   2858   \n",
       "7            Politics  https://www.reddit.com/r/India/comments/cx0wwv   2851   \n",
       "8  Science/Technology  https://www.reddit.com/r/India/comments/ch5ws5   2852   \n",
       "9            Politics  https://www.reddit.com/r/India/comments/ebq5qp   2842   \n",
       "\n",
       "   num_comments                dated  \n",
       "0           203  2019-08-26 14:07:19  \n",
       "1            81  2020-03-26 10:42:11  \n",
       "2            92  2019-06-29 12:19:57  \n",
       "3           161  2019-12-19 13:58:31  \n",
       "4           127  2019-06-07 03:21:06  \n",
       "5           114  2019-06-14 13:37:44  \n",
       "6            74  2020-03-21 13:11:02  \n",
       "7           115  2019-08-29 21:26:36  \n",
       "8           232  2019-07-24 17:24:41  \n",
       "9           156  2019-12-17 11:27:57  "
      ]
     },
     "execution_count": 27,
     "metadata": {},
     "output_type": "execute_result"
    }
   ],
   "source": [
    "df_top_year.head(10)"
   ]
  },
  {
   "cell_type": "code",
   "execution_count": 28,
   "metadata": {},
   "outputs": [],
   "source": [
    "df_top_year.to_csv('top_posts_year.csv', index=None)"
   ]
  },
  {
   "cell_type": "code",
   "execution_count": 29,
   "metadata": {},
   "outputs": [
    {
     "data": {
      "text/plain": [
       "834"
      ]
     },
     "execution_count": 29,
     "metadata": {},
     "output_type": "execute_result"
    }
   ],
   "source": [
    "len(df_top_year)"
   ]
  },
  {
   "cell_type": "code",
   "execution_count": null,
   "metadata": {},
   "outputs": [],
   "source": []
  }
 ],
 "metadata": {
  "kernelspec": {
   "display_name": "Python 3",
   "language": "python",
   "name": "python3"
  },
  "language_info": {
   "codemirror_mode": {
    "name": "ipython",
    "version": 3
   },
   "file_extension": ".py",
   "mimetype": "text/x-python",
   "name": "python",
   "nbconvert_exporter": "python",
   "pygments_lexer": "ipython3",
   "version": "3.7.4"
  },
  "widgets": {
   "application/vnd.jupyter.widget-state+json": {
    "state": {
     "0cb0bab70b7e48b498c77dab66ec665c": {
      "model_module": "@jupyter-widgets/controls",
      "model_module_version": "1.5.0",
      "model_name": "HBoxModel",
      "state": {
       "children": [
        "IPY_MODEL_acec410929ca4af6ab284b9366c7017c",
        "IPY_MODEL_a669d9ac7f9044c09810eb13cff7dd37"
       ],
       "layout": "IPY_MODEL_4ab7cadebc9949caaec805cdad79d9bd"
      }
     },
     "1b9827d123114f8e86981c6b0569e4ea": {
      "model_module": "@jupyter-widgets/base",
      "model_module_version": "1.2.0",
      "model_name": "LayoutModel",
      "state": {}
     },
     "337b2ef4784a488f8c124d3768c5dc3e": {
      "model_module": "@jupyter-widgets/controls",
      "model_module_version": "1.5.0",
      "model_name": "DescriptionStyleModel",
      "state": {
       "description_width": ""
      }
     },
     "4ab7cadebc9949caaec805cdad79d9bd": {
      "model_module": "@jupyter-widgets/base",
      "model_module_version": "1.2.0",
      "model_name": "LayoutModel",
      "state": {}
     },
     "a669d9ac7f9044c09810eb13cff7dd37": {
      "model_module": "@jupyter-widgets/controls",
      "model_module_version": "1.5.0",
      "model_name": "HTMLModel",
      "state": {
       "layout": "IPY_MODEL_d68ce33b232b43689e9bf16d627075da",
       "style": "IPY_MODEL_337b2ef4784a488f8c124d3768c5dc3e",
       "value": " 770/? [02:05&lt;00:00,  6.16it/s]"
      }
     },
     "acec410929ca4af6ab284b9366c7017c": {
      "model_module": "@jupyter-widgets/controls",
      "model_module_version": "1.5.0",
      "model_name": "FloatProgressModel",
      "state": {
       "bar_style": "success",
       "layout": "IPY_MODEL_1b9827d123114f8e86981c6b0569e4ea",
       "max": 1,
       "style": "IPY_MODEL_edeacac8eb044a838c74e2eb198101f8",
       "value": 1
      }
     },
     "d68ce33b232b43689e9bf16d627075da": {
      "model_module": "@jupyter-widgets/base",
      "model_module_version": "1.2.0",
      "model_name": "LayoutModel",
      "state": {}
     },
     "edeacac8eb044a838c74e2eb198101f8": {
      "model_module": "@jupyter-widgets/controls",
      "model_module_version": "1.5.0",
      "model_name": "ProgressStyleModel",
      "state": {
       "description_width": "initial"
      }
     }
    },
    "version_major": 2,
    "version_minor": 0
   }
  }
 },
 "nbformat": 4,
 "nbformat_minor": 4
}
