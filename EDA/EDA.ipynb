{
 "cells": [
  {
   "cell_type": "markdown",
   "metadata": {},
   "source": [
    "## Importing pandas and matplotlib to plot the data to see which flairs are relevant to us"
   ]
  },
  {
   "cell_type": "code",
   "execution_count": 18,
   "metadata": {},
   "outputs": [],
   "source": [
    "import pandas as pd\n",
    "import matplotlib.pyplot as plt\n",
    "plt.style.use('dark_background')"
   ]
  },
  {
   "cell_type": "markdown",
   "metadata": {},
   "source": [
    "### Using the news and the all year top posts for our dataset"
   ]
  },
  {
   "cell_type": "code",
   "execution_count": 19,
   "metadata": {},
   "outputs": [],
   "source": [
    "df = pd.read_csv('new_posts.csv')"
   ]
  },
  {
   "cell_type": "code",
   "execution_count": 20,
   "metadata": {},
   "outputs": [],
   "source": [
    "df = df.append(pd.read_csv('top_posts_year.csv'))"
   ]
  },
  {
   "cell_type": "code",
   "execution_count": 21,
   "metadata": {},
   "outputs": [],
   "source": [
    "df['flair'] = df['flair'].fillna('Unknown')"
   ]
  },
  {
   "cell_type": "markdown",
   "metadata": {},
   "source": [
    "### Dropping the duplicate entries in the dataset to clean data further\n"
   ]
  },
  {
   "cell_type": "code",
   "execution_count": 22,
   "metadata": {},
   "outputs": [],
   "source": [
    "df = df.drop_duplicates()"
   ]
  },
  {
   "cell_type": "markdown",
   "metadata": {},
   "source": [
    "### Post count per flair, we will be selecting the top 12 posts"
   ]
  },
  {
   "cell_type": "code",
   "execution_count": 23,
   "metadata": {},
   "outputs": [
    {
     "data": {
      "text/plain": [
       "<matplotlib.axes._subplots.AxesSubplot at 0x7f51ab03abd0>"
      ]
     },
     "execution_count": 23,
     "metadata": {},
     "output_type": "execute_result"
    },
    {
     "data": {
      "image/png": "[encoded data removed]",
      "text/plain": [
       "<Figure size 432x288 with 1 Axes>"
      ]
     },
     "metadata": {},
     "output_type": "display_data"
    }
   ],
   "source": [
    "df.groupby(by='flair').count().nlargest(12, 'id')['id'].plot(kind='bar', colormap='hsv')"
   ]
  },
  {
   "cell_type": "code",
   "execution_count": 24,
   "metadata": {},
   "outputs": [],
   "source": [
    "classes = sorted([\n",
    "    \"Politics\",\n",
    "    \"Coronavirus\",\n",
    "    \"Non-Political\",\n",
    "    \"AskIndia\",\n",
    "    \"Policy/Economy\",\n",
    "    \"Photography\",\n",
    "    \"Business/Finance\",\n",
    "    \"Food\",\n",
    "    \"Science/Technology\",\n",
    "    \"CAA-NRC\",\n",
    "    \"[R]eddiquette\",\n",
    "    \"Unknown\",\n",
    "])"
   ]
  },
  {
   "cell_type": "code",
   "execution_count": 25,
   "metadata": {},
   "outputs": [
    {
     "data": {
      "text/plain": [
       "['AskIndia',\n",
       " 'Business/Finance',\n",
       " 'CAA-NRC',\n",
       " 'Coronavirus',\n",
       " 'Food',\n",
       " 'Non-Political',\n",
       " 'Photography',\n",
       " 'Policy/Economy',\n",
       " 'Politics',\n",
       " 'Science/Technology',\n",
       " 'Unknown',\n",
       " '[R]eddiquette']"
      ]
     },
     "execution_count": 25,
     "metadata": {},
     "output_type": "execute_result"
    }
   ],
   "source": [
    "classes"
   ]
  },
  {
   "cell_type": "markdown",
   "metadata": {},
   "source": [
    "### Selecting only those rows who belong to the above classes"
   ]
  },
  {
   "cell_type": "code",
   "execution_count": 26,
   "metadata": {},
   "outputs": [],
   "source": [
    "df = df[df.flair.isin(classes)]"
   ]
  },
  {
   "cell_type": "markdown",
   "metadata": {},
   "source": [
    "### Resetting the index and shuffling the dataset"
   ]
  },
  {
   "cell_type": "code",
   "execution_count": 27,
   "metadata": {},
   "outputs": [],
   "source": [
    "df = df.sample(frac=1)\n",
    "df = df.reset_index(col_fill=None, drop=True)"
   ]
  },
  {
   "cell_type": "markdown",
   "metadata": {},
   "source": [
    "### Since body is mostly null, we can combine that column with title for our data analysis"
   ]
  },
  {
   "cell_type": "code",
   "execution_count": 28,
   "metadata": {},
   "outputs": [
    {
     "name": "stdout",
     "output_type": "stream",
     "text": [
      "<class 'pandas.core.frame.DataFrame'>\n",
      "RangeIndex: 1652 entries, 0 to 1651\n",
      "Data columns (total 9 columns):\n",
      "id              1652 non-null object\n",
      "subreddit       1652 non-null object\n",
      "title           1652 non-null object\n",
      "body            354 non-null object\n",
      "flair           1652 non-null object\n",
      "url             1652 non-null object\n",
      "score           1652 non-null int64\n",
      "num_comments    1652 non-null int64\n",
      "dated           1652 non-null object\n",
      "dtypes: int64(2), object(7)\n",
      "memory usage: 116.3+ KB\n"
     ]
    }
   ],
   "source": [
    "df.info()"
   ]
  },
  {
   "cell_type": "code",
   "execution_count": 29,
   "metadata": {},
   "outputs": [],
   "source": [
    "df['body'] = df['body'].fillna('')"
   ]
  },
  {
   "cell_type": "markdown",
   "metadata": {},
   "source": [
    "### Combining the text from title and body into a text column"
   ]
  },
  {
   "cell_type": "code",
   "execution_count": 30,
   "metadata": {},
   "outputs": [],
   "source": [
    "df['text'] = df['title'] + ' ' + df['body']"
   ]
  },
  {
   "cell_type": "markdown",
   "metadata": {},
   "source": [
    "### We can now drop the title and body columns"
   ]
  },
  {
   "cell_type": "code",
   "execution_count": 31,
   "metadata": {},
   "outputs": [],
   "source": [
    "df = df.drop(['title','body'], axis=1)"
   ]
  },
  {
   "cell_type": "code",
   "execution_count": 33,
   "metadata": {},
   "outputs": [
    {
     "data": {
      "text/plain": [
       "0       Cartoon of the day: Jharkhand Election Results...\n",
       "1                      My hostel canteen has some advice \n",
       "2                               some honesty in this age \n",
       "3       Welcome to India, the land of IRONIES! (source...\n",
       "4       Coronavirus Lockdown: The Seven and a Half Thi...\n",
       "                              ...                        \n",
       "1647    Rant: In India everything matters except the r...\n",
       "1648    Services at Delhi State Cancer Institute suspe...\n",
       "1649    Kejriwal offers support to Goa govt in setting...\n",
       "1650    Kerala boy arranges remarriage for his torment...\n",
       "1651               Meanwhile at Delhi Pride parade today \n",
       "Name: text, Length: 1652, dtype: object"
      ]
     },
     "execution_count": 33,
     "metadata": {},
     "output_type": "execute_result"
    }
   ],
   "source": [
    "df['text']"
   ]
  },
  {
   "cell_type": "markdown",
   "metadata": {},
   "source": [
    "### Removing punctuation and extra characters from the dataset and keeping a word_count column"
   ]
  },
  {
   "cell_type": "code",
   "execution_count": 34,
   "metadata": {},
   "outputs": [],
   "source": [
    "df['text'] = df['text'].str.replace('[^\\w\\s]', '').str.replace('[\\d+]', '')\n",
    "df['word_count'] = df['text'].apply(lambda x: len(x.split()))"
   ]
  },
  {
   "cell_type": "code",
   "execution_count": 53,
   "metadata": {},
   "outputs": [
    {
     "data": {
      "text/html": [
       "<div>\n",
       "<style scoped>\n",
       "    .dataframe tbody tr th:only-of-type {\n",
       "        vertical-align: middle;\n",
       "    }\n",
       "\n",
       "    .dataframe tbody tr th {\n",
       "        vertical-align: top;\n",
       "    }\n",
       "\n",
       "    .dataframe thead th {\n",
       "        text-align: right;\n",
       "    }\n",
       "</style>\n",
       "<table border=\"1\" class=\"dataframe\">\n",
       "  <thead>\n",
       "    <tr style=\"text-align: right;\">\n",
       "      <th></th>\n",
       "      <th>id</th>\n",
       "      <th>subreddit</th>\n",
       "      <th>flair</th>\n",
       "      <th>url</th>\n",
       "      <th>score</th>\n",
       "      <th>num_comments</th>\n",
       "      <th>dated</th>\n",
       "      <th>text</th>\n",
       "      <th>word_count</th>\n",
       "    </tr>\n",
       "  </thead>\n",
       "  <tbody>\n",
       "    <tr>\n",
       "      <td>0</td>\n",
       "      <td>eejoo0</td>\n",
       "      <td>india</td>\n",
       "      <td>Politics</td>\n",
       "      <td>https://www.reddit.com/r/India/comments/eejoo0</td>\n",
       "      <td>1909</td>\n",
       "      <td>43</td>\n",
       "      <td>2019-12-23 19:52:23</td>\n",
       "      <td>Cartoon of the day Jharkhand Election Results ...</td>\n",
       "      <td>9</td>\n",
       "    </tr>\n",
       "    <tr>\n",
       "      <td>1</td>\n",
       "      <td>fhfhka</td>\n",
       "      <td>india</td>\n",
       "      <td>Non-Political</td>\n",
       "      <td>https://www.reddit.com/r/India/comments/fhfhka</td>\n",
       "      <td>1864</td>\n",
       "      <td>95</td>\n",
       "      <td>2020-03-12 20:22:46</td>\n",
       "      <td>My hostel canteen has some advice</td>\n",
       "      <td>6</td>\n",
       "    </tr>\n",
       "    <tr>\n",
       "      <td>2</td>\n",
       "      <td>bl5jei</td>\n",
       "      <td>india</td>\n",
       "      <td>Non-Political</td>\n",
       "      <td>https://www.reddit.com/r/India/comments/bl5jei</td>\n",
       "      <td>1833</td>\n",
       "      <td>42</td>\n",
       "      <td>2019-05-06 09:02:23</td>\n",
       "      <td>some honesty in this age</td>\n",
       "      <td>5</td>\n",
       "    </tr>\n",
       "    <tr>\n",
       "      <td>3</td>\n",
       "      <td>egrhee</td>\n",
       "      <td>india</td>\n",
       "      <td>Politics</td>\n",
       "      <td>https://www.reddit.com/r/India/comments/egrhee</td>\n",
       "      <td>928</td>\n",
       "      <td>28</td>\n",
       "      <td>2019-12-28 22:43:13</td>\n",
       "      <td>Welcome to India the land of IRONIES source in...</td>\n",
       "      <td>10</td>\n",
       "    </tr>\n",
       "    <tr>\n",
       "      <td>4</td>\n",
       "      <td>g1lgm7</td>\n",
       "      <td>india</td>\n",
       "      <td>Coronavirus</td>\n",
       "      <td>https://www.reddit.com/r/India/comments/g1lgm7</td>\n",
       "      <td>1</td>\n",
       "      <td>0</td>\n",
       "      <td>2020-04-15 13:05:55</td>\n",
       "      <td>Coronavirus Lockdown The Seven and a Half Thin...</td>\n",
       "      <td>15</td>\n",
       "    </tr>\n",
       "    <tr>\n",
       "      <td>...</td>\n",
       "      <td>...</td>\n",
       "      <td>...</td>\n",
       "      <td>...</td>\n",
       "      <td>...</td>\n",
       "      <td>...</td>\n",
       "      <td>...</td>\n",
       "      <td>...</td>\n",
       "      <td>...</td>\n",
       "      <td>...</td>\n",
       "    </tr>\n",
       "    <tr>\n",
       "      <td>1647</td>\n",
       "      <td>e5rae3</td>\n",
       "      <td>india</td>\n",
       "      <td>Politics</td>\n",
       "      <td>https://www.reddit.com/r/India/comments/e5rae3</td>\n",
       "      <td>1630</td>\n",
       "      <td>353</td>\n",
       "      <td>2019-12-04 09:12:26</td>\n",
       "      <td>Rant In India everything matters except the re...</td>\n",
       "      <td>976</td>\n",
       "    </tr>\n",
       "    <tr>\n",
       "      <td>1648</td>\n",
       "      <td>fz305g</td>\n",
       "      <td>india</td>\n",
       "      <td>Coronavirus</td>\n",
       "      <td>https://www.reddit.com/r/India/comments/fz305g</td>\n",
       "      <td>16</td>\n",
       "      <td>1</td>\n",
       "      <td>2020-04-11 19:22:14</td>\n",
       "      <td>Services at Delhi State Cancer Institute suspe...</td>\n",
       "      <td>19</td>\n",
       "    </tr>\n",
       "    <tr>\n",
       "      <td>1649</td>\n",
       "      <td>fzv6aq</td>\n",
       "      <td>india</td>\n",
       "      <td>Politics</td>\n",
       "      <td>https://www.reddit.com/r/India/comments/fzv6aq</td>\n",
       "      <td>40</td>\n",
       "      <td>3</td>\n",
       "      <td>2020-04-12 19:32:22</td>\n",
       "      <td>Kejriwal offers support to Goa govt in setting...</td>\n",
       "      <td>11</td>\n",
       "    </tr>\n",
       "    <tr>\n",
       "      <td>1650</td>\n",
       "      <td>c1jq0m</td>\n",
       "      <td>india</td>\n",
       "      <td>Non-Political</td>\n",
       "      <td>https://www.reddit.com/r/India/comments/c1jq0m</td>\n",
       "      <td>1020</td>\n",
       "      <td>60</td>\n",
       "      <td>2019-06-17 13:23:18</td>\n",
       "      <td>Kerala boy arranges remarriage for his torment...</td>\n",
       "      <td>8</td>\n",
       "    </tr>\n",
       "    <tr>\n",
       "      <td>1651</td>\n",
       "      <td>e11mox</td>\n",
       "      <td>india</td>\n",
       "      <td>Politics</td>\n",
       "      <td>https://www.reddit.com/r/India/comments/e11mox</td>\n",
       "      <td>1086</td>\n",
       "      <td>168</td>\n",
       "      <td>2019-11-25 01:39:21</td>\n",
       "      <td>Meanwhile at Delhi Pride parade today</td>\n",
       "      <td>6</td>\n",
       "    </tr>\n",
       "  </tbody>\n",
       "</table>\n",
       "<p>1652 rows × 9 columns</p>\n",
       "</div>"
      ],
      "text/plain": [
       "          id subreddit          flair  \\\n",
       "0     eejoo0     india       Politics   \n",
       "1     fhfhka     india  Non-Political   \n",
       "2     bl5jei     india  Non-Political   \n",
       "3     egrhee     india       Politics   \n",
       "4     g1lgm7     india    Coronavirus   \n",
       "...      ...       ...            ...   \n",
       "1647  e5rae3     india       Politics   \n",
       "1648  fz305g     india    Coronavirus   \n",
       "1649  fzv6aq     india       Politics   \n",
       "1650  c1jq0m     india  Non-Political   \n",
       "1651  e11mox     india       Politics   \n",
       "\n",
       "                                                 url  score  num_comments  \\\n",
       "0     https://www.reddit.com/r/India/comments/eejoo0   1909            43   \n",
       "1     https://www.reddit.com/r/India/comments/fhfhka   1864            95   \n",
       "2     https://www.reddit.com/r/India/comments/bl5jei   1833            42   \n",
       "3     https://www.reddit.com/r/India/comments/egrhee    928            28   \n",
       "4     https://www.reddit.com/r/India/comments/g1lgm7      1             0   \n",
       "...                                              ...    ...           ...   \n",
       "1647  https://www.reddit.com/r/India/comments/e5rae3   1630           353   \n",
       "1648  https://www.reddit.com/r/India/comments/fz305g     16             1   \n",
       "1649  https://www.reddit.com/r/India/comments/fzv6aq     40             3   \n",
       "1650  https://www.reddit.com/r/India/comments/c1jq0m   1020            60   \n",
       "1651  https://www.reddit.com/r/India/comments/e11mox   1086           168   \n",
       "\n",
       "                    dated                                               text  \\\n",
       "0     2019-12-23 19:52:23  Cartoon of the day Jharkhand Election Results ...   \n",
       "1     2020-03-12 20:22:46                 My hostel canteen has some advice    \n",
       "2     2019-05-06 09:02:23                          some honesty in this age    \n",
       "3     2019-12-28 22:43:13  Welcome to India the land of IRONIES source in...   \n",
       "4     2020-04-15 13:05:55  Coronavirus Lockdown The Seven and a Half Thin...   \n",
       "...                   ...                                                ...   \n",
       "1647  2019-12-04 09:12:26  Rant In India everything matters except the re...   \n",
       "1648  2020-04-11 19:22:14  Services at Delhi State Cancer Institute suspe...   \n",
       "1649  2020-04-12 19:32:22  Kejriwal offers support to Goa govt in setting...   \n",
       "1650  2019-06-17 13:23:18  Kerala boy arranges remarriage for his torment...   \n",
       "1651  2019-11-25 01:39:21             Meanwhile at Delhi Pride parade today    \n",
       "\n",
       "      word_count  \n",
       "0              9  \n",
       "1              6  \n",
       "2              5  \n",
       "3             10  \n",
       "4             15  \n",
       "...          ...  \n",
       "1647         976  \n",
       "1648          19  \n",
       "1649          11  \n",
       "1650           8  \n",
       "1651           6  \n",
       "\n",
       "[1652 rows x 9 columns]"
      ]
     },
     "execution_count": 53,
     "metadata": {},
     "output_type": "execute_result"
    }
   ],
   "source": [
    "df"
   ]
  },
  {
   "cell_type": "markdown",
   "metadata": {},
   "source": [
    "### Import sklearn text module to analyze text"
   ]
  },
  {
   "cell_type": "code",
   "execution_count": 36,
   "metadata": {},
   "outputs": [],
   "source": [
    "from sklearn.feature_extraction.text import CountVectorizer, ENGLISH_STOP_WORDS, TfidfVectorizer"
   ]
  },
  {
   "cell_type": "markdown",
   "metadata": {},
   "source": [
    "### Finding out top phrases in the text."
   ]
  },
  {
   "cell_type": "code",
   "execution_count": 68,
   "metadata": {},
   "outputs": [],
   "source": [
    "cvec = CountVectorizer(lowercase=True, stop_words=ENGLISH_STOP_WORDS, ngram_range = (2,2), max_df = .95, min_df= 5)"
   ]
  },
  {
   "cell_type": "code",
   "execution_count": 69,
   "metadata": {},
   "outputs": [],
   "source": [
    "word_matrix = cvec.fit_transform(df['text'])"
   ]
  },
  {
   "cell_type": "code",
   "execution_count": 70,
   "metadata": {},
   "outputs": [],
   "source": [
    "word_matrix_df = pd.DataFrame(word_matrix.toarray(), columns = cvec.get_feature_names())"
   ]
  },
  {
   "cell_type": "code",
   "execution_count": 71,
   "metadata": {},
   "outputs": [],
   "source": [
    "word_matrix_dict = {word: word_matrix_df[word].sum() for word in cvec.get_feature_names()}\n",
    "word_matrix_df = pd.DataFrame(word_matrix_dict, index = ['count'])\n",
    "word_matrix_df = word_matrix_df.T\n"
   ]
  },
  {
   "cell_type": "code",
   "execution_count": 73,
   "metadata": {},
   "outputs": [
    {
     "data": {
      "text/html": [
       "<div>\n",
       "<style scoped>\n",
       "    .dataframe tbody tr th:only-of-type {\n",
       "        vertical-align: middle;\n",
       "    }\n",
       "\n",
       "    .dataframe tbody tr th {\n",
       "        vertical-align: top;\n",
       "    }\n",
       "\n",
       "    .dataframe thead th {\n",
       "        text-align: right;\n",
       "    }\n",
       "</style>\n",
       "<table border=\"1\" class=\"dataframe\">\n",
       "  <thead>\n",
       "    <tr style=\"text-align: right;\">\n",
       "      <th></th>\n",
       "      <th>count</th>\n",
       "    </tr>\n",
       "  </thead>\n",
       "  <tbody>\n",
       "    <tr>\n",
       "      <td>dont know</td>\n",
       "      <td>28</td>\n",
       "    </tr>\n",
       "    <tr>\n",
       "      <td>aarogya setu</td>\n",
       "      <td>25</td>\n",
       "    </tr>\n",
       "    <tr>\n",
       "      <td>tamil nadu</td>\n",
       "      <td>20</td>\n",
       "    </tr>\n",
       "    <tr>\n",
       "      <td>dont want</td>\n",
       "      <td>20</td>\n",
       "    </tr>\n",
       "    <tr>\n",
       "      <td>want know</td>\n",
       "      <td>16</td>\n",
       "    </tr>\n",
       "    <tr>\n",
       "      <td>deccan herald</td>\n",
       "      <td>16</td>\n",
       "    </tr>\n",
       "    <tr>\n",
       "      <td>covid cases</td>\n",
       "      <td>16</td>\n",
       "    </tr>\n",
       "    <tr>\n",
       "      <td>coronavirus lockdown</td>\n",
       "      <td>14</td>\n",
       "    </tr>\n",
       "    <tr>\n",
       "      <td>times india</td>\n",
       "      <td>14</td>\n",
       "    </tr>\n",
       "    <tr>\n",
       "      <td>need help</td>\n",
       "      <td>14</td>\n",
       "    </tr>\n",
       "    <tr>\n",
       "      <td>th april</td>\n",
       "      <td>13</td>\n",
       "    </tr>\n",
       "    <tr>\n",
       "      <td>years old</td>\n",
       "      <td>13</td>\n",
       "    </tr>\n",
       "    <tr>\n",
       "      <td>prime minister</td>\n",
       "      <td>12</td>\n",
       "    </tr>\n",
       "    <tr>\n",
       "      <td>herald speak</td>\n",
       "      <td>12</td>\n",
       "    </tr>\n",
       "    <tr>\n",
       "      <td>narendra modi</td>\n",
       "      <td>12</td>\n",
       "    </tr>\n",
       "    <tr>\n",
       "      <td>pm modi</td>\n",
       "      <td>12</td>\n",
       "    </tr>\n",
       "    <tr>\n",
       "      <td>supreme court</td>\n",
       "      <td>12</td>\n",
       "    </tr>\n",
       "    <tr>\n",
       "      <td>covid testing</td>\n",
       "      <td>11</td>\n",
       "    </tr>\n",
       "    <tr>\n",
       "      <td>amit shah</td>\n",
       "      <td>11</td>\n",
       "    </tr>\n",
       "    <tr>\n",
       "      <td>test positive</td>\n",
       "      <td>11</td>\n",
       "    </tr>\n",
       "  </tbody>\n",
       "</table>\n",
       "</div>"
      ],
      "text/plain": [
       "                      count\n",
       "dont know                28\n",
       "aarogya setu             25\n",
       "tamil nadu               20\n",
       "dont want                20\n",
       "want know                16\n",
       "deccan herald            16\n",
       "covid cases              16\n",
       "coronavirus lockdown     14\n",
       "times india              14\n",
       "need help                14\n",
       "th april                 13\n",
       "years old                13\n",
       "prime minister           12\n",
       "herald speak             12\n",
       "narendra modi            12\n",
       "pm modi                  12\n",
       "supreme court            12\n",
       "covid testing            11\n",
       "amit shah                11\n",
       "test positive            11"
      ]
     },
     "execution_count": 73,
     "metadata": {},
     "output_type": "execute_result"
    }
   ],
   "source": [
    "word_matrix_df.sort_values(by='count', ascending = False).head(20)"
   ]
  },
  {
   "cell_type": "code",
   "execution_count": 74,
   "metadata": {},
   "outputs": [],
   "source": [
    "df.to_csv('dataset.csv', index=None)"
   ]
  },
  {
   "cell_type": "code",
   "execution_count": null,
   "metadata": {},
   "outputs": [],
   "source": []
  }
 ],
 "metadata": {
  "kernelspec": {
   "display_name": "Python 3",
   "language": "python",
   "name": "python3"
  },
  "language_info": {
   "codemirror_mode": {
    "name": "ipython",
    "version": 3
   },
   "file_extension": ".py",
   "mimetype": "text/x-python",
   "name": "python",
   "nbconvert_exporter": "python",
   "pygments_lexer": "ipython3",
   "version": "3.7.4"
  },
  "widgets": {
   "application/vnd.jupyter.widget-state+json": {
    "state": {},
    "version_major": 2,
    "version_minor": 0
   }
  }
 },
 "nbformat": 4,
 "nbformat_minor": 4
}
